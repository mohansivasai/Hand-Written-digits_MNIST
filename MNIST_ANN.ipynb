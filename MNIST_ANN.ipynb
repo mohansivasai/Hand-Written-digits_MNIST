{
  "nbformat": 4,
  "nbformat_minor": 0,
  "metadata": {
    "colab": {
      "name": "MNIST.ipynb",
      "provenance": [],
      "collapsed_sections": [],
      "authorship_tag": "ABX9TyPisj3/FUCnVSfbO4NUZMaO",
      "include_colab_link": true
    },
    "kernelspec": {
      "name": "python3",
      "display_name": "Python 3"
    },
    "accelerator": "GPU"
  },
  "cells": [
    {
      "cell_type": "markdown",
      "metadata": {
        "id": "view-in-github",
        "colab_type": "text"
      },
      "source": [
        "<a href=\"https://colab.research.google.com/github/mohansivasai/Hand-Written-digits_MNIST/blob/master/MNIST_ANN.ipynb\" target=\"_parent\"><img src=\"https://colab.research.google.com/assets/colab-badge.svg\" alt=\"Open In Colab\"/></a>"
      ]
    },
    {
      "cell_type": "code",
      "metadata": {
        "id": "ckMbO4qS9GqL",
        "colab_type": "code",
        "colab": {
          "base_uri": "https://localhost:8080/",
          "height": 88
        },
        "outputId": "cf304b2e-400f-4922-fa4d-be676262b182"
      },
      "source": [
        "#imporing the dependencies\n",
        "import numpy as  np\n",
        "import matplotlib.pyplot as plt\n",
        "import tensorflow as tf\n",
        "import seaborn  as sns\n",
        "from tensorflow import keras\n",
        "print(tf.__version__)\n",
        "%matplotlib inline"
      ],
      "execution_count": 2,
      "outputs": [
        {
          "output_type": "stream",
          "text": [
            "2.2.0-rc2\n"
          ],
          "name": "stdout"
        },
        {
          "output_type": "stream",
          "text": [
            "/usr/local/lib/python3.6/dist-packages/statsmodels/tools/_testing.py:19: FutureWarning: pandas.util.testing is deprecated. Use the functions in the public API at pandas.testing instead.\n",
            "  import pandas.util.testing as tm\n"
          ],
          "name": "stderr"
        }
      ]
    },
    {
      "cell_type": "code",
      "metadata": {
        "id": "-VHFt1NNmUl1",
        "colab_type": "code",
        "colab": {
          "base_uri": "https://localhost:8080/",
          "height": 51
        },
        "outputId": "7306cc5a-dcd5-40fa-c19a-1aa8cd54623e"
      },
      "source": [
        "#loading the data\n",
        "(x_train,y_train),(x_test,y_test) = keras.datasets.mnist.load_data()"
      ],
      "execution_count": 3,
      "outputs": [
        {
          "output_type": "stream",
          "text": [
            "Downloading data from https://storage.googleapis.com/tensorflow/tf-keras-datasets/mnist.npz\n",
            "11493376/11490434 [==============================] - 0s 0us/step\n"
          ],
          "name": "stdout"
        }
      ]
    },
    {
      "cell_type": "code",
      "metadata": {
        "id": "MoPJooJQmp-A",
        "colab_type": "code",
        "colab": {
          "base_uri": "https://localhost:8080/",
          "height": 68
        },
        "outputId": "37462578-0bb4-406a-8fab-a58555c31d5a"
      },
      "source": [
        "#EDA\n",
        "print('no of training images = ',x_train.shape)\n",
        "print('no of testing images = ',x_test.shape)\n",
        "x_train.shape"
      ],
      "execution_count": 4,
      "outputs": [
        {
          "output_type": "stream",
          "text": [
            "no of training images =  (60000, 28, 28)\n",
            "no of testing images =  (10000, 28, 28)\n"
          ],
          "name": "stdout"
        },
        {
          "output_type": "execute_result",
          "data": {
            "text/plain": [
              "(60000, 28, 28)"
            ]
          },
          "metadata": {
            "tags": []
          },
          "execution_count": 4
        }
      ]
    },
    {
      "cell_type": "code",
      "metadata": {
        "id": "kCK5zq2dQijK",
        "colab_type": "code",
        "colab": {
          "base_uri": "https://localhost:8080/",
          "height": 34
        },
        "outputId": "f16a1ee7-7a70-4761-93bb-df1417f728ac"
      },
      "source": [
        "output = []\n",
        "for x in y_train:\n",
        "  if x in output:\n",
        "    continue\n",
        "  else:\n",
        "    output.append(x)\n",
        "print(output)"
      ],
      "execution_count": 12,
      "outputs": [
        {
          "output_type": "stream",
          "text": [
            "[5, 0, 4, 1, 9, 2, 3, 6, 7, 8]\n"
          ],
          "name": "stdout"
        }
      ]
    },
    {
      "cell_type": "code",
      "metadata": {
        "id": "rYKZ1Skjndve",
        "colab_type": "code",
        "colab": {
          "base_uri": "https://localhost:8080/",
          "height": 193
        },
        "outputId": "d36d42e8-1110-4d8f-f233-b336205cad08"
      },
      "source": [
        "f,ax = plt.subplots(nrows=1,ncols=4)\n",
        "i = 0\n",
        "for axes in ax:\n",
        "  axes.imshow(x_train[i],cmap='inferno')\n",
        "  print(y_train[i])\n",
        "  i+=1\n",
        "plt.tight_layout()\n",
        "plt.show()"
      ],
      "execution_count": 13,
      "outputs": [
        {
          "output_type": "stream",
          "text": [
            "5\n",
            "0\n",
            "4\n",
            "1\n"
          ],
          "name": "stdout"
        },
        {
          "output_type": "display_data",
          "data": {
            "image/png": "[encoded data removed]",
            "text/plain": [
              "<Figure size 432x288 with 4 Axes>"
            ]
          },
          "metadata": {
            "tags": [],
            "needs_background": "light"
          }
        }
      ]
    },
    {
      "cell_type": "code",
      "metadata": {
        "id": "-NT_RRRwvq4v",
        "colab_type": "code",
        "colab": {}
      },
      "source": [
        "x_train = x_train/255\n",
        "x_test = x_test/255"
      ],
      "execution_count": 0,
      "outputs": []
    },
    {
      "cell_type": "code",
      "metadata": {
        "id": "8g_VOv34oihD",
        "colab_type": "code",
        "colab": {}
      },
      "source": [
        "#Defining the model\n",
        "model = tf.keras.Sequential([\n",
        "                            keras.layers.Flatten(),\n",
        "                            keras.layers.Dense(256,activation='relu'),\n",
        "                            keras.layers.Dense(512,activation='relu'),\n",
        "                            keras.layers.Dense(10,activation='softmax')\n",
        "])"
      ],
      "execution_count": 0,
      "outputs": []
    },
    {
      "cell_type": "code",
      "metadata": {
        "id": "Whje-SLmpPuS",
        "colab_type": "code",
        "colab": {}
      },
      "source": [
        "#Compiling the model\n",
        "model.compile(optimizer='adam',loss='sparse_categorical_crossentropy',metrics=['accuracy'])"
      ],
      "execution_count": 0,
      "outputs": []
    },
    {
      "cell_type": "code",
      "metadata": {
        "id": "5X3UEjm-3u_R",
        "colab_type": "code",
        "colab": {}
      },
      "source": [
        "#callbacks\n",
        "class Callback(tf.keras.callbacks.Callback):\n",
        "  def on_epoch_end(self,epoch,logs={}):\n",
        "    if logs.get('accuracy') > 0.96:\n",
        "      print(\"\\n Reached the desired accuracy so stoping the training!\")\n",
        "      self.model.stop_training = True\n",
        "callback = Callback()"
      ],
      "execution_count": 0,
      "outputs": []
    },
    {
      "cell_type": "code",
      "metadata": {
        "id": "T4b-JwY74wqF",
        "colab_type": "code",
        "colab": {
          "base_uri": "https://localhost:8080/",
          "height": 119
        },
        "outputId": "881d0d9b-aaeb-436f-df9a-1feac1401ff3"
      },
      "source": [
        "#Training the model\n",
        "hist = model.fit(x_train,y_train,batch_size=64,epochs=10,verbose=1,callbacks=[callback])"
      ],
      "execution_count": 18,
      "outputs": [
        {
          "output_type": "stream",
          "text": [
            "Epoch 1/10\n",
            "938/938 [==============================] - 2s 2ms/step - loss: 0.2139 - accuracy: 0.9356\n",
            "Epoch 2/10\n",
            "930/938 [============================>.] - ETA: 0s - loss: 0.0827 - accuracy: 0.9739\n",
            " Reached the desired accuracy so stoping the training!\n",
            "938/938 [==============================] - 2s 2ms/step - loss: 0.0828 - accuracy: 0.9739\n"
          ],
          "name": "stdout"
        }
      ]
    },
    {
      "cell_type": "code",
      "metadata": {
        "id": "3fbRklqr7Ds0",
        "colab_type": "code",
        "colab": {
          "base_uri": "https://localhost:8080/",
          "height": 68
        },
        "outputId": "dc14fbf3-f0b5-43b3-8f58-ef6e046eb5e0"
      },
      "source": [
        "#evaluationg the model\n",
        "pred = model.evaluate(x_test,y_test)\n",
        "print(\"loss = {}\".format(pred[0]))\n",
        "print('Accuracy on test set = {}'.format(pred[1]))"
      ],
      "execution_count": 19,
      "outputs": [
        {
          "output_type": "stream",
          "text": [
            "313/313 [==============================] - 1s 2ms/step - loss: 0.0871 - accuracy: 0.9733\n",
            "loss = 0.0871245339512825\n",
            "Accuracy on test set = 0.9732999801635742\n"
          ],
          "name": "stdout"
        }
      ]
    },
    {
      "cell_type": "code",
      "metadata": {
        "id": "ZU8XiSfP8miY",
        "colab_type": "code",
        "colab": {
          "base_uri": "https://localhost:8080/",
          "height": 367
        },
        "outputId": "b379f972-6efe-483f-94ca-4a123a9fdcbb"
      },
      "source": [
        "# evaluating the loss and accuracy\n",
        "acc = hist.history['accuracy']\n",
        "loss = hist.history['loss']\n",
        "epochs = hist.epoch\n",
        "f,ax = plt.subplots(nrows=1,ncols=2,figsize=(10,5))\n",
        "ax[0].plot(epochs,acc,color='blue',ls=':')\n",
        "ax[0].set_title('Epochs Vs accuracy')\n",
        "ax[0].set_xlabel('epochs')\n",
        "ax[0].set_ylabel('Accuracy')\n",
        "ax[1].plot(epochs,loss,color='red',ls='--')\n",
        "ax[1].set_title(\"Epochs Vs Loss\")\n",
        "ax[1].set_xlabel('epochs')\n",
        "ax[1].set_ylabel(\"loss\")"
      ],
      "execution_count": 20,
      "outputs": [
        {
          "output_type": "execute_result",
          "data": {
            "text/plain": [
              "Text(0, 0.5, 'loss')"
            ]
          },
          "metadata": {
            "tags": []
          },
          "execution_count": 20
        },
        {
          "output_type": "display_data",
          "data": {
            "image/png": "[encoded data removed]",
            "text/plain": [
              "<Figure size 720x360 with 2 Axes>"
            ]
          },
          "metadata": {
            "tags": [],
            "needs_background": "light"
          }
        }
      ]
    },
    {
      "cell_type": "code",
      "metadata": {
        "id": "HKoUGHXt-3s7",
        "colab_type": "code",
        "colab": {}
      },
      "source": [
        ""
      ],
      "execution_count": 0,
      "outputs": []
    },
    {
      "cell_type": "code",
      "metadata": {
        "id": "H9EWL3QoTBil",
        "colab_type": "code",
        "colab": {}
      },
      "source": [
        ""
      ],
      "execution_count": 0,
      "outputs": []
    }
  ]
}